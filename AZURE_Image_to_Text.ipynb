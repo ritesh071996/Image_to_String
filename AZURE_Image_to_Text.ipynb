{
 "cells": [
  {
   "cell_type": "code",
   "execution_count": 5,
   "metadata": {},
   "outputs": [
    {
     "name": "stdout",
     "output_type": "stream",
     "text": [
      "{'status': 'Running'}\n",
      "{'status': 'Succeeded', 'recognitionResults': [{'page': 1, 'clockwiseOrientation': 359.23, 'width': 125, 'height': 55, 'unit': 'pixel', 'lines': [{'boundingBox': [4, 8, 115, 7, 116, 45, 5, 47], 'text': 'big.f7', 'words': [{'boundingBox': [5, 9, 109, 8, 107, 47, 6, 46], 'text': 'big.f7', 'confidence': 'Low'}]}]}]}\n",
      "[([4, 8, 115, 7, 116, 45, 5, 47], 'big.f7')]\n",
      "\n",
      "\n",
      "my_list: ['big.f7']\n"
     ]
    }
   ],
   "source": [
    "import requests\n",
    "import time\n",
    "from PIL import Image\n",
    "from io import BytesIO\n",
    "\n",
    "subscription_key = '-----Subscription Key-----'\n",
    "\n",
    "endpoint = '-----Endpoint-----'\n",
    "\n",
    "text_recognition_url = endpoint + \"vision/v2.1/read/core/asyncBatchAnalyze\"\n",
    "\n",
    "image_url = \"------Image Url------\"\n",
    "\n",
    "headers = {'Ocp-Apim-Subscription-Key': subscription_key}\n",
    "data = {'url': image_url}\n",
    "response = requests.post(\n",
    "    text_recognition_url, headers=headers, json=data)\n",
    "response.raise_for_status()\n",
    "\n",
    "analysis = {}\n",
    "poll = True\n",
    "while (poll):\n",
    "    response_final = requests.get(\n",
    "        response.headers[\"Operation-Location\"], headers=headers)\n",
    "    analysis = response_final.json()\n",
    "    print(analysis)\n",
    "    time.sleep(1)\n",
    "    if (\"recognitionResults\" in analysis):\n",
    "        poll = False\n",
    "    if (\"status\" in analysis and analysis['status'] == 'Failed'):\n",
    "        poll = False\n",
    "\n",
    "polygons = []\n",
    "if (\"recognitionResults\" in analysis):\n",
    "    polygons = [(line[\"boundingBox\"], line[\"text\"])\n",
    "                for line in analysis[\"recognitionResults\"][0][\"lines\"]]\n",
    "print(polygons)\n",
    "\n",
    "my_list = []\n",
    "for i,j in polygons:\n",
    "    my_list.append(j)\n",
    "    \n",
    "print(\"\\n\")\n",
    "print(\"my_list:\",my_list)\n"
   ]
  }
 ],
 "metadata": {
  "kernelspec": {
   "display_name": "Python 3",
   "language": "python",
   "name": "python3"
  },
  "language_info": {
   "codemirror_mode": {
    "name": "ipython",
    "version": 3
   },
   "file_extension": ".py",
   "mimetype": "text/x-python",
   "name": "python",
   "nbconvert_exporter": "python",
   "pygments_lexer": "ipython3",
   "version": "3.7.1"
  }
 },
 "nbformat": 4,
 "nbformat_minor": 2
}
